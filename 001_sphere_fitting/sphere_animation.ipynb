{
 "cells": [
  {
   "cell_type": "code",
   "execution_count": 1,
   "id": "c0dc4780",
   "metadata": {},
   "outputs": [],
   "source": [
    "import pyvista as pv\n",
    "import random\n",
    "import numpy as np\n",
    "from tqdm.auto import tqdm\n",
    "import imageio"
   ]
  },
  {
   "cell_type": "code",
   "execution_count": 2,
   "id": "e471f810",
   "metadata": {},
   "outputs": [
    {
     "name": "stderr",
     "output_type": "stream",
     "text": [
      "/Users/mkalai/miniconda3/envs/dev/lib/python3.11/site-packages/pyvista/jupyter/notebook.py:34: UserWarning: Failed to use notebook backend: \n",
      "\n",
      "cannot import name 'vtk' from 'trame.widgets' (/Users/mkalai/miniconda3/envs/dev/lib/python3.11/site-packages/trame/widgets/__init__.py)\n",
      "\n",
      "Falling back to a static output.\n",
      "  warnings.warn(\n"
     ]
    },
    {
     "data": {
      "image/png": "[encoded data removed]",
      "text/plain": [
       "<PIL.Image.Image image mode=RGB size=1024x768>"
      ]
     },
     "metadata": {},
     "output_type": "display_data"
    },
    {
     "data": {
      "application/vnd.jupyter.widget-view+json": {
       "model_id": "2f83b6f2f206468fb33bea4252eddf24",
       "version_major": 2,
       "version_minor": 0
      },
      "text/plain": [
       "  0%|          | 0/30 [00:00<?, ?it/s]"
      ]
     },
     "metadata": {},
     "output_type": "display_data"
    }
   ],
   "source": [
    "# Create a PyVista point cloud (replace this with your own point cloud data)\n",
    "point_cloud = pv.read(\"points.vtk\")  # Example point cloud\n",
    "\n",
    "p = pv.Plotter()\n",
    "p.add_mesh(point_cloud)\n",
    "p.show()\n",
    "cpos = p.camera_position\n",
    "\n",
    "# Get bounding box of the point cloud\n",
    "bounds = point_cloud.bounds\n",
    "x_min, x_max, y_min, y_max, z_min, z_max = bounds\n",
    "\n",
    "# Function to get a random position within the bounding box\n",
    "def random_position():\n",
    "    x = random.uniform(x_min, x_max)\n",
    "    y = random.uniform(y_min, y_max)\n",
    "    z = random.uniform(z_min, z_max)\n",
    "    return x, y, z\n",
    "\n",
    "# Initialize sphere\n",
    "sphere = pv.Sphere(radius=5)\n",
    "\n",
    "# Parameters for animation\n",
    "num_frames = 30  # Number of frames in the animation\n",
    "position_change_speed = 2  # Speed of position change\n",
    "radius_min, radius_max = 3, 10  # Range for sphere radius\n",
    "radius_change_speed = 0.4  # Speed of radius change\n",
    "screenshots = []\n",
    "\n",
    "# Random initial values for movement\n",
    "delta_x, delta_y, delta_z = np.random.uniform(-1, 1, 3)\n",
    "\n",
    "# Generate animation\n",
    "for i in tqdm(range(num_frames)):\n",
    "    \n",
    "    # Update position of the sphere\n",
    "    new_x = sphere.center[0] + delta_x * position_change_speed\n",
    "    new_y = sphere.center[1] + delta_y * position_change_speed\n",
    "    new_z = sphere.center[2] + delta_z * position_change_speed\n",
    "    \n",
    "    # Reflect off bounding box edges\n",
    "    if not (x_min < new_x < x_max):\n",
    "        delta_x = -delta_x\n",
    "    if not (y_min < new_y < y_max):\n",
    "        delta_y = -delta_y\n",
    "    if not (z_min < new_z < z_max):\n",
    "        delta_z = -delta_z\n",
    "    \n",
    "    # Update the center of the sphere\n",
    "    translation = [new_x - sphere.center[0], new_y - sphere.center[1], new_z - sphere.center[2]]\n",
    "    sphere.points += translation\n",
    "\n",
    "    # Update the sphere with a new radius\n",
    "    new_radius = (sphere.bounds[1] - sphere.bounds[0]) / 2 + radius_change_speed\n",
    "    if not (radius_min < new_radius < radius_max):\n",
    "        radius_change_speed = -radius_change_speed\n",
    "#     new_radius = sphere.bounds[1] - sphere.bounds[0] + radius_change_speed\n",
    "\n",
    "#     print(new_radius)\n",
    "\n",
    "    new_sphere = pv.Sphere(center=sphere.center, radius=new_radius)\n",
    "    sphere.points = new_sphere.points  # Update the points of the existing sphere\n",
    "\n",
    "    # Update the sphere actor\n",
    "#     plotter.update_coordinates(sphere.points, render=False)\n",
    "\n",
    "    plotter = pv.Plotter(off_screen=True)  # Off-screen rendering for screenshots\n",
    "    plotter.add_mesh(point_cloud, color=\"white\", point_size=5 , render_points_as_spheres=True) #\n",
    "    plotter.camera_position = cpos\n",
    "    sphere_actor = plotter.add_mesh(sphere, color=\"red\", opacity=0.5)\n",
    "#     print(sphere.bounds)\n",
    "\n",
    "    # Take a screenshot and save it\n",
    "    img = plotter.screenshot(None)\n",
    "    screenshots.append(img)\n",
    "\n",
    "# Close the plotter\n",
    "plotter.close()"
   ]
  },
  {
   "cell_type": "code",
   "execution_count": 3,
   "id": "80c30b08",
   "metadata": {},
   "outputs": [],
   "source": [
    "imageio.mimsave(\"movement.gif\", screenshots)"
   ]
  },
  {
   "cell_type": "code",
   "execution_count": null,
   "id": "e0908773",
   "metadata": {},
   "outputs": [],
   "source": []
  }
 ],
 "metadata": {
  "kernelspec": {
   "display_name": "Python 3 (ipykernel)",
   "language": "python",
   "name": "python3"
  },
  "language_info": {
   "codemirror_mode": {
    "name": "ipython",
    "version": 3
   },
   "file_extension": ".py",
   "mimetype": "text/x-python",
   "name": "python",
   "nbconvert_exporter": "python",
   "pygments_lexer": "ipython3",
   "version": "3.11.5"
  }
 },
 "nbformat": 4,
 "nbformat_minor": 5
}
